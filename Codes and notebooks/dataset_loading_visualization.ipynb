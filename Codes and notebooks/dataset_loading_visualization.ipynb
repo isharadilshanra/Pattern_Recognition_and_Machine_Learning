{
 "cells": [
  {
   "cell_type": "code",
   "execution_count": 7,
   "metadata": {},
   "outputs": [
    {
     "name": "stdout",
     "output_type": "stream",
     "text": [
      "Feature Names: Index(['species', 'island', 'bill_length_mm', 'bill_depth_mm',\n",
      "       'flipper_length_mm', 'body_mass_g'],\n",
      "      dtype='object')\n",
      "Class Names: ['Adelie' 'Chinstrap' 'Gentoo']\n"
     ]
    }
   ],
   "source": [
    "import seaborn as sns\n",
    "import matplotlib.pyplot as plt\n",
    "\n",
    "# Apply the default theme\n",
    "sns.set_theme()\n",
    "\n",
    "penguins = sns.load_dataset(\"penguins\")\n",
    "\n",
    "# Get the feature names (column names) from the DataFrame\n",
    "feature_names = penguins.columns[:-1]  # Exclude the last column (\"species\")\n",
    "\n",
    "# Get the unique class names (species)\n",
    "class_names = penguins[\"species\"].unique()\n",
    "\n",
    "# Print the feature names and class names\n",
    "print(\"Feature Names:\", feature_names)\n",
    "print(\"Class Names:\", class_names)\n",
    "\n"
   ]
  },
  {
   "cell_type": "code",
   "execution_count": 8,
   "metadata": {},
   "outputs": [
    {
     "data": {
      "image/png": "[encoded data removed]",
      "text/plain": [
       "<Figure size 800x600 with 1 Axes>"
      ]
     },
     "metadata": {},
     "output_type": "display_data"
    }
   ],
   "source": [
    "# Plot the class distribution\n",
    "plt.figure(figsize=(8, 6))\n",
    "sns.countplot(data=penguins, x=\"species\")\n",
    "plt.xlabel('Species')\n",
    "plt.ylabel('Count')\n",
    "plt.title('Class Distribution of Penguins Species')\n",
    "plt.show()"
   ]
  },
  {
   "cell_type": "code",
   "execution_count": 9,
   "metadata": {},
   "outputs": [
    {
     "name": "stdout",
     "output_type": "stream",
     "text": [
      "<class 'pandas.core.frame.DataFrame'>\n",
      "RangeIndex: 344 entries, 0 to 343\n",
      "Data columns (total 7 columns):\n",
      " #   Column             Non-Null Count  Dtype  \n",
      "---  ------             --------------  -----  \n",
      " 0   species            344 non-null    object \n",
      " 1   island             344 non-null    object \n",
      " 2   bill_length_mm     342 non-null    float64\n",
      " 3   bill_depth_mm      342 non-null    float64\n",
      " 4   flipper_length_mm  342 non-null    float64\n",
      " 5   body_mass_g        342 non-null    float64\n",
      " 6   sex                333 non-null    object \n",
      "dtypes: float64(4), object(3)\n",
      "memory usage: 18.9+ KB\n",
      "None\n"
     ]
    }
   ],
   "source": [
    "# Display information about the dataset\n",
    "print(penguins.info())"
   ]
  },
  {
   "cell_type": "code",
   "execution_count": null,
   "metadata": {},
   "outputs": [],
   "source": [
    "# Calculate covariance matrix and variance for each variable\n",
    "cov_matrix = penguins.cov()\n",
    "variance_values = penguins.var()\n",
    "\n",
    "# Create the pairplot with covariance plots\n",
    "g = sns.pairplot(data=penguins, hue=\"species\", diag_kind=\"kde\")\n",
    "\n",
    "\n",
    "plt.show()"
   ]
  },
  {
   "cell_type": "code",
   "execution_count": 5,
   "metadata": {},
   "outputs": [
    {
     "name": "stdout",
     "output_type": "stream",
     "text": [
      "       bill_length_mm  bill_depth_mm  flipper_length_mm  body_mass_g\n",
      "count      342.000000     342.000000         342.000000   342.000000\n",
      "mean        43.921930      17.151170         200.915205  4201.754386\n",
      "std          5.459584       1.974793          14.061714   801.954536\n",
      "min         32.100000      13.100000         172.000000  2700.000000\n",
      "25%         39.225000      15.600000         190.000000  3550.000000\n",
      "50%         44.450000      17.300000         197.000000  4050.000000\n",
      "75%         48.500000      18.700000         213.000000  4750.000000\n",
      "max         59.600000      21.500000         231.000000  6300.000000\n"
     ]
    }
   ],
   "source": [
    "# Summary statistics for the penguins DataFrame\n",
    "summary_stats = penguins.describe()\n",
    "\n",
    "# Print the summary statistics\n",
    "print(summary_stats)"
   ]
  },
  {
   "cell_type": "code",
   "execution_count": 4,
   "metadata": {},
   "outputs": [
    {
     "name": "stdout",
     "output_type": "stream",
     "text": [
      "bill_length_mm           29.807054\n",
      "bill_depth_mm             3.899808\n",
      "flipper_length_mm       197.731792\n",
      "body_mass_g          643131.077327\n",
      "dtype: float64\n"
     ]
    }
   ],
   "source": [
    "print(variance_values)\n"
   ]
  },
  {
   "cell_type": "code",
   "execution_count": 3,
   "metadata": {},
   "outputs": [
    {
     "name": "stdout",
     "output_type": "stream",
     "text": [
      "                   bill_length_mm  bill_depth_mm  flipper_length_mm  \\\n",
      "bill_length_mm          29.807054      -2.534234          50.375765   \n",
      "bill_depth_mm           -2.534234       3.899808         -16.212950   \n",
      "flipper_length_mm       50.375765     -16.212950         197.731792   \n",
      "body_mass_g           2605.591912    -747.370093        9824.416062   \n",
      "\n",
      "                     body_mass_g  \n",
      "bill_length_mm       2605.591912  \n",
      "bill_depth_mm        -747.370093  \n",
      "flipper_length_mm    9824.416062  \n",
      "body_mass_g        643131.077327  \n"
     ]
    }
   ],
   "source": [
    "print(cov_matrix)\n",
    "\n"
   ]
  }
 ],
 "metadata": {
  "kernelspec": {
   "display_name": "Python 3",
   "language": "python",
   "name": "python3"
  },
  "language_info": {
   "codemirror_mode": {
    "name": "ipython",
    "version": 3
   },
   "file_extension": ".py",
   "mimetype": "text/x-python",
   "name": "python",
   "nbconvert_exporter": "python",
   "pygments_lexer": "ipython3",
   "version": "3.7.7"
  },
  "orig_nbformat": 4
 },
 "nbformat": 4,
 "nbformat_minor": 2
}
